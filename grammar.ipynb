{
 "metadata": {
  "language_info": {
   "codemirror_mode": {
    "name": "ipython",
    "version": 3
   },
   "file_extension": ".py",
   "mimetype": "text/x-python",
   "name": "python",
   "nbconvert_exporter": "python",
   "pygments_lexer": "ipython3",
   "version": "3.7.6-final"
  },
  "orig_nbformat": 2,
  "kernelspec": {
   "name": "python3",
   "display_name": "Python 3"
  }
 },
 "nbformat": 4,
 "nbformat_minor": 2,
 "cells": [
  {
   "cell_type": "code",
   "execution_count": 3,
   "metadata": {
    "tags": []
   },
   "outputs": [
    {
     "output_type": "stream",
     "name": "stdout",
     "text": "Tree(start, [Token(WORD, 'Hello'), Token(WORD, 'World')])\n"
    }
   ],
   "source": [
    "import lark"
   ]
  },
  {
   "cell_type": "code",
   "execution_count": 197,
   "metadata": {},
   "outputs": [],
   "source": [
    "grammar_0 = \"\"\"\n",
    "    ?start: sum\n",
    "    ?sum: product\n",
    "        | sum \"+\" product   -> add\n",
    "        | sum \"-\" product   -> sub\n",
    "    ?product: atom\n",
    "        | exponential\n",
    "        | product \"*\" atom  -> mul\n",
    "        | product \"/\" atom  -> div\n",
    "    ?exponential: atom \"^\" atom\n",
    "    ?atom: NUMBER           -> number\n",
    "         | \"-\" atom         -> neg\n",
    "         | symbol            \n",
    "         | \"(\" sum \")\"\n",
    "         | call\n",
    "         | variable\n",
    "    ?symbol: NAME -> symbol\n",
    "    ?variable: symbol  \"[\" \"t\" (\"+\" date_index)? \"]\" -> variable\n",
    "            | symbol \"(\" date_index \")\" -> variable\n",
    "    ?date_index: NUMBER -> date\n",
    "    ?call: FUNCTION \"(\" sum \")\" -> call\n",
    "    FUNCTION: \"sin\"|\"cos\"|\"exp\"|\"log\"\n",
    "\n",
    "    \n",
    "    %import common.CNAME -> NAME\n",
    "    %import common.NUMBER\n",
    "    %import common.WS_INLINE\n",
    "    %ignore WS_INLINE\n",
    "\"\"\"\n",
    "l = lark.Lark(grammar_0)\n",
    "p = l.parse(\"d + oij^2 - (1.0 + a) + sin(x) + v[t+1] + v[t] + x(0) + z[t]\")\n",
    "print( p.pretty() )"
   ]
  }
 ]
}